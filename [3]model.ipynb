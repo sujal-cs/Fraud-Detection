{
 "cells": [
  {
   "cell_type": "code",
   "execution_count": 1,
   "metadata": {},
   "outputs": [
    {
     "name": "stdout",
     "output_type": "stream",
     "text": [
      "Total data entries in the dataset: 420\n",
      "\n",
      "Attributes (Columns) in the Dataset:\n",
      "assured_age\n",
      "nominee_relation\n",
      "occupation\n",
      "policy sumassured\n",
      "premium\n",
      "premiumpaymentmode\n",
      "annual income\n",
      "holdermaritalstatus\n",
      "indiv_requirementflag\n",
      "policy term\n",
      "policy payment term\n",
      "product type\n",
      "channel\n",
      "fraud category\n",
      "\n",
      "Fraud Category Counts:\n",
      "fraud category\n",
      "document tampering        60\n",
      "misrepresentation         60\n",
      "misselling                60\n",
      "claims fraud              60\n",
      "Other Fraud               60\n",
      "misappropriating funds    60\n",
      "signature forgery         60\n",
      "Name: count, dtype: int64\n"
     ]
    }
   ],
   "source": [
    "import pandas as pd\n",
    "# Load the CSV file\n",
    "df = pd.read_csv(\"dataset/split/train_fraud_dataset.csv\")\n",
    "\n",
    "total_data = len(df)\n",
    "print(f\"Total data entries in the dataset: {total_data}\")\n",
    "# Print all column names (attributes) in the dataset\n",
    "print(\"\\nAttributes (Columns) in the Dataset:\")\n",
    "for col in df.columns:\n",
    "    print(col)\n",
    "# Specify the column name containing the fraud category\n",
    "fraud_column = \"fraud category\"\n",
    "# Get the unique classes and their counts\n",
    "class_counts = df[fraud_column].value_counts()\n",
    "# Print the results\n",
    "print(\"\\nFraud Category Counts:\")\n",
    "print(class_counts)\n"
   ]
  },
  {
   "cell_type": "code",
   "execution_count": 2,
   "metadata": {},
   "outputs": [
    {
     "name": "stdout",
     "output_type": "stream",
     "text": [
      "\n",
      "Fraud Category Counts:\n",
      "fraud category\n",
      "Other Fraud               20\n",
      "misappropriating funds    20\n",
      "misselling                20\n",
      "document tampering        20\n",
      "claims fraud              20\n",
      "misrepresentation         20\n",
      "signature forgery         20\n",
      "Name: count, dtype: int64\n"
     ]
    }
   ],
   "source": [
    "df = pd.read_csv(\"dataset/split/test_fraud_dataset.csv\")\n",
    "\n",
    "fraud_column = \"fraud category\"\n",
    "# Get the unique classes and their counts\n",
    "class_counts = df[fraud_column].value_counts()\n",
    "# Print the results\n",
    "print(\"\\nFraud Category Counts:\")\n",
    "print(class_counts)\n"
   ]
  },
  {
   "cell_type": "code",
   "execution_count": 3,
   "metadata": {},
   "outputs": [
    {
     "name": "stdout",
     "output_type": "stream",
     "text": [
      "\n",
      "Fraud Category Counts:\n",
      "fraud category\n",
      "document tampering        20\n",
      "Other Fraud               20\n",
      "misappropriating funds    20\n",
      "misrepresentation         20\n",
      "misselling                20\n",
      "signature forgery         20\n",
      "claims fraud              20\n",
      "Name: count, dtype: int64\n"
     ]
    }
   ],
   "source": [
    "df = pd.read_csv(\"dataset/split/val_fraud_dataset.csv\")\n",
    "\n",
    "fraud_column = \"fraud category\"\n",
    "# Get the unique classes and their counts\n",
    "class_counts = df[fraud_column].value_counts()\n",
    "# Print the results\n",
    "print(\"\\nFraud Category Counts:\")\n",
    "print(class_counts)\n"
   ]
  },
  {
   "cell_type": "code",
   "execution_count": 4,
   "metadata": {},
   "outputs": [
    {
     "name": "stdout",
     "output_type": "stream",
     "text": [
      "misrepresentation\n",
      "document tampering\n",
      "signature forgery\n",
      "misselling \n",
      "misappropriating funds\n",
      "logging in business not sourced by oneself\n",
      "impersonation\n",
      "claims fraud\n",
      "kickback\n",
      "agent dual pan card\n",
      "unauthorized activity\n"
     ]
    }
   ],
   "source": [
    "# Load the validation dataset\n",
    "df = pd.read_csv(\"dataset/original_dataset.csv\")\n",
    "# Specify the fraud column\n",
    "fraud_column = \"fraud category\"\n",
    "# Get the unique classes\n",
    "unique_classes = df[fraud_column].unique()\n",
    "# Save the classes into an array\n",
    "classes = unique_classes.tolist()\n",
    "\n",
    "for category in classes:\n",
    "    print(category)\n",
    "    "
   ]
  },
  {
   "cell_type": "code",
   "execution_count": 5,
   "metadata": {},
   "outputs": [
    {
     "name": "stdout",
     "output_type": "stream",
     "text": [
      "document tampering\n",
      "Other Fraud\n",
      "misappropriating funds\n",
      "misrepresentation\n",
      "misselling \n",
      "signature forgery\n",
      "claims fraud\n"
     ]
    }
   ],
   "source": [
    "# Load the validation dataset\n",
    "df = pd.read_csv(\"dataset/split/val_fraud_dataset.csv\")\n",
    "# Specify the fraud column\n",
    "fraud_column = \"fraud category\"\n",
    "# Get the unique classes\n",
    "unique_classes = df[fraud_column].unique()\n",
    "# Save the classes into an array\n",
    "classes = unique_classes.tolist()\n",
    "\n",
    "for category in classes:\n",
    "    print(category)\n"
   ]
  }
 ],
 "metadata": {
  "kernelspec": {
   "display_name": "base",
   "language": "python",
   "name": "python3"
  },
  "language_info": {
   "codemirror_mode": {
    "name": "ipython",
    "version": 3
   },
   "file_extension": ".py",
   "mimetype": "text/x-python",
   "name": "python",
   "nbconvert_exporter": "python",
   "pygments_lexer": "ipython3",
   "version": "3.12.7"
  }
 },
 "nbformat": 4,
 "nbformat_minor": 2
}
